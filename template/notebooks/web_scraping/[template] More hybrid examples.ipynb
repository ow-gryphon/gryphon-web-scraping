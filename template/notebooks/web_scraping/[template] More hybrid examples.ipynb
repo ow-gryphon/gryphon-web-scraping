{
 "cells": [
  {
   "cell_type": "markdown",
   "id": "53332f3a",
   "metadata": {
    "toc": true
   },
   "source": [
    "<h1>Table of Contents<span class=\"tocSkip\"></span></h1>\n",
    "<div class=\"toc\"><ul class=\"toc-item\"><li><span><a href=\"#More-examples-of-webscraping-using-hybrid-methods\" data-toc-modified-id=\"More-examples-of-webscraping-using-hybrid-methods-1\"><span class=\"toc-item-num\">1&nbsp;&nbsp;</span>More examples of webscraping using hybrid methods</a></span></li><li><span><a href=\"#Example:-Using-requests,-beautifulsoup,-and-Selenium-to-identify-longitude-/-latitude-of-RV-dealership-locations\" data-toc-modified-id=\"Example:-Using-requests,-beautifulsoup,-and-Selenium-to-identify-longitude-/-latitude-of-RV-dealership-locations-2\"><span class=\"toc-item-num\">2&nbsp;&nbsp;</span>Example: Using requests, beautifulsoup, and Selenium to identify longitude / latitude of RV dealership locations</a></span><ul class=\"toc-item\"><li><span><a href=\"#Get-the-HTML-from-the-website\" data-toc-modified-id=\"Get-the-HTML-from-the-website-2.1\"><span class=\"toc-item-num\">2.1&nbsp;&nbsp;</span>Get the HTML from the website</a></span></li><li><span><a href=\"#Find-links-to-the-page-for-locations-in-each-US-State\" data-toc-modified-id=\"Find-links-to-the-page-for-locations-in-each-US-State-2.2\"><span class=\"toc-item-num\">2.2&nbsp;&nbsp;</span>Find links to the page for locations in each US State</a></span></li><li><span><a href=\"#For-each-state,-get-the-HTML-from-that-website-and-extract-the-Google-Maps-URL\" data-toc-modified-id=\"For-each-state,-get-the-HTML-from-that-website-and-extract-the-Google-Maps-URL-2.3\"><span class=\"toc-item-num\">2.3&nbsp;&nbsp;</span>For each state, get the HTML from that website and extract the Google Maps URL</a></span></li><li><span><a href=\"#Load-the-Google-Maps-link,-and-get-the-longitude-and-latitude\" data-toc-modified-id=\"Load-the-Google-Maps-link,-and-get-the-longitude-and-latitude-2.4\"><span class=\"toc-item-num\">2.4&nbsp;&nbsp;</span>Load the Google Maps link, and get the longitude and latitude</a></span></li></ul></li><li><span><a href=\"#Example:-Using-Requests-to-perform-searches,-and-use-beautifulsoup-to-parse-information-from-search-results-(which-are-in-HTML-form)\" data-toc-modified-id=\"Example:-Using-Requests-to-perform-searches,-and-use-beautifulsoup-to-parse-information-from-search-results-(which-are-in-HTML-form)-3\"><span class=\"toc-item-num\">3&nbsp;&nbsp;</span>Example: Using Requests to perform searches, and use beautifulsoup to parse information from search results (which are in HTML form)</a></span><ul class=\"toc-item\"><li><span><a href=\"#Load-relevant-libraries\" data-toc-modified-id=\"Load-relevant-libraries-3.1\"><span class=\"toc-item-num\">3.1&nbsp;&nbsp;</span>Load relevant libraries</a></span></li><li><span><a href=\"#Use-requests-library-to-search-each-State\" data-toc-modified-id=\"Use-requests-library-to-search-each-State-3.2\"><span class=\"toc-item-num\">3.2&nbsp;&nbsp;</span>Use requests library to search each State</a></span></li><li><span><a href=\"#Extract-name-and-address-from-the-HTML\" data-toc-modified-id=\"Extract-name-and-address-from-the-HTML-3.3\"><span class=\"toc-item-num\">3.3&nbsp;&nbsp;</span>Extract name and address from the HTML</a></span></li></ul></li></ul></div>"
   ]
  },
  {
   "cell_type": "markdown",
   "id": "5c451e39",
   "metadata": {},
   "source": [
    "<div class=\"alert alert-danger\" role=\"alert\">\n",
    "    <span style=\"font-size:20px\">&#9888;</span> <span style=\"font-size:16px\">This is a read-only notebook! If you want to make and save changes, save a copy by clicking on <b>File</b> &#8594; <b>Save a copy</b>. If this is already a copy, you can delete this cell.</span>\n",
    "</div>"
   ]
  },
  {
   "cell_type": "markdown",
   "id": "b5184e76",
   "metadata": {},
   "source": [
    "# More examples of webscraping using hybrid methods\n",
    "\n",
    "Many tasks require a combination of multiple web scraping techniques. This provides several examples.\n",
    "\n",
    "If you are not familiar with the individual techniques, see the other notebooks on:\n",
    "* HTML Scraping Using Beautiful Soup and Pandas\n",
    "* HTTP requests to interface with REST APIs\n",
    "* Webscraping using Selenium\n",
    "\n",
    "**DISCLAIMER**: The legality of web scraping needs to be considered on a site by site basis. The site in question may display a \"Terms of Use\", which should be passed by Oliver Wyman Legal in advance."
   ]
  },
  {
   "cell_type": "markdown",
   "id": "bcda0fcf",
   "metadata": {},
   "source": [
    "<h1>Table of Contents<span class=\"tocSkip\"></span></h1>\n",
    "<ul class=\"toc-item\"><li><span><a href=\"#More-examples-of-webscraping-using-hybrid-methods\" data-toc-modified-id=\"More-examples-of-webscraping-using-hybrid-methods-1\"><span class=\"toc-item-num\">1&nbsp;&nbsp;</span>More examples of webscraping using hybrid methods</a></span></li><li><span><a href=\"#Example:-Using-requests,-beautifulsoup,-and-Selenium-to-identify-longitude-/-latitude-of-RV-dealership-locations\" data-toc-modified-id=\"Example:-Using-requests,-beautifulsoup,-and-Selenium-to-identify-longitude-/-latitude-of-RV-dealership-locations-2\"><span class=\"toc-item-num\">2&nbsp;&nbsp;</span>Example: Using requests, beautifulsoup, and Selenium to identify longitude / latitude of RV dealership locations</a></span><ul class=\"toc-item\"><li><span><a href=\"#Get-the-HTML-from-the-website\" data-toc-modified-id=\"Get-the-HTML-from-the-website-2.1\"><span class=\"toc-item-num\">2.1&nbsp;&nbsp;</span>Get the HTML from the website</a></span></li><li><span><a href=\"#Find-links-to-the-page-for-locations-in-each-US-State\" data-toc-modified-id=\"Find-links-to-the-page-for-locations-in-each-US-State-2.2\"><span class=\"toc-item-num\">2.2&nbsp;&nbsp;</span>Find links to the page for locations in each US State</a></span></li><li><span><a href=\"#For-each-state,-get-the-HTML-from-that-website-and-extract-the-Google-Maps-URL\" data-toc-modified-id=\"For-each-state,-get-the-HTML-from-that-website-and-extract-the-Google-Maps-URL-2.3\"><span class=\"toc-item-num\">2.3&nbsp;&nbsp;</span>For each state, get the HTML from that website and extract the Google Maps URL</a></span></li><li><span><a href=\"#Load-the-Google-Maps-link,-and-get-the-longitude-and-latitude\" data-toc-modified-id=\"Load-the-Google-Maps-link,-and-get-the-longitude-and-latitude-2.4\"><span class=\"toc-item-num\">2.4&nbsp;&nbsp;</span>Load the Google Maps link, and get the longitude and latitude</a></span></li></ul></li><li><span><a href=\"#Example:-Using-Requests-to-perform-searches,-and-use-beautifulsoup-to-parse-information-from-search-results-(which-are-in-HTML-form)\" data-toc-modified-id=\"Example:-Using-Requests-to-perform-searches,-and-use-beautifulsoup-to-parse-information-from-search-results-(which-are-in-HTML-form)-3\"><span class=\"toc-item-num\">3&nbsp;&nbsp;</span>Example: Using Requests to perform searches, and use beautifulsoup to parse information from search results (which are in HTML form)</a></span><ul class=\"toc-item\"><li><span><a href=\"#Load-relevant-libraries\" data-toc-modified-id=\"Load-relevant-libraries-3.1\"><span class=\"toc-item-num\">3.1&nbsp;&nbsp;</span>Load relevant libraries</a></span></li><li><span><a href=\"#Use-requests-library-to-search-each-State\" data-toc-modified-id=\"Use-requests-library-to-search-each-State-3.2\"><span class=\"toc-item-num\">3.2&nbsp;&nbsp;</span>Use requests library to search each State</a></span></li><li><span><a href=\"#Extract-name-and-address-from-the-HTML\" data-toc-modified-id=\"Extract-name-and-address-from-the-HTML-3.3\"><span class=\"toc-item-num\">3.3&nbsp;&nbsp;</span>Extract name and address from the HTML</a></span></li></ul></li></ul>"
   ]
  },
  {
   "cell_type": "markdown",
   "id": "bc26c1d2",
   "metadata": {},
   "source": [
    "# Example: Using requests, beautifulsoup, and Selenium to identify longitude / latitude of RV dealership locations\n",
    "\n",
    "Process is to:\n",
    "1. Navigate to https://www.bluecompassrv.com/locations/\n",
    "2. Find the links to each US State\n",
    "3. For each state, get all the Google Maps links (which are 'places' in Google Maps)\n",
    "4. Use Selenium to load the Google Maps link\n",
    "5. Grab the Longitude and Latitude from the loaded URL"
   ]
  },
  {
   "cell_type": "markdown",
   "id": "7581def5",
   "metadata": {},
   "source": [
    "**We start by importing the Python libraries that will be used**"
   ]
  },
  {
   "cell_type": "code",
   "execution_count": 12,
   "id": "eaf4aebb",
   "metadata": {},
   "outputs": [],
   "source": [
    "import requests\n",
    "import pip_system_certs\n",
    "\n",
    "import pandas as pd\n",
    "from bs4 import BeautifulSoup\n",
    "\n",
    "import selenium\n",
    "from selenium import webdriver\n",
    "from selenium.webdriver.common.keys import Keys\n",
    "from selenium.webdriver.chrome.service import Service\n",
    "from selenium.webdriver.support.ui import WebDriverWait\n",
    "from selenium.webdriver.support import expected_conditions as EC\n",
    "from selenium.webdriver.chrome.options import Options\n",
    "\n",
    "import time"
   ]
  },
  {
   "cell_type": "markdown",
   "id": "32796cd2",
   "metadata": {},
   "source": [
    "## Get the HTML from the website\n",
    "\n",
    "Using requests with the URL directly to fetch the HTML from https://www.bluecompassrv.com/locations/"
   ]
  },
  {
   "cell_type": "code",
   "execution_count": 2,
   "id": "259ecc09",
   "metadata": {},
   "outputs": [],
   "source": [
    "url = 'https://www.bluecompassrv.com/locations/'\n",
    "response = requests.get(url)"
   ]
  },
  {
   "cell_type": "code",
   "execution_count": 5,
   "id": "f4152a36",
   "metadata": {},
   "outputs": [
    {
     "data": {
      "text/plain": [
       "b'\\r\\n<!DOCTYPE HTML>\\r\\n<html lang=\"en\" prefix=\"og: http://ogp.me/ns#\">\\r\\n<head id=\"head\">\\r\\n    <meta name=\"viewport\" content=\"width=device-width, initial-scale=1.0, maximum-scale=1.0\">\\r\\n    <meta charset=\"utf-8\">\\r\\n    <meta name=\"description\" content=\"\"/>\\r\\n    <meta name=\"keywords\" content=\"\"/>\\r\\n    <title>\\r\\n        All Locations at Blue Compass RV\\r\\n    </title>\\r\\n\\r\\n\\r\\n    <!-- Google Tag Manager -->\\r\\n    <script>(function(w,d,s,l,i){w[l]=w[l]||[];w[l].push({\\'gtm.start\\':new Date().getTime(),event:\\'gtm.js\\'});var f=d.getElementsByTagName(s)[0],j=d.createElement(s),dl=l!=\\'dataLayer\\'?\\'&l=\\'+l:\\'\\';j.async=true;j.src=\\'https://www.googletagmanager.com/gtm.js?id=\\'+i+dl;f.parentNode.insertBefore(j,f);})(window,document,\\'script\\',\\'dataLayer\\',\\'GTM-NMRD4XZ\\');</script>\\r\\n    <!-- end Google Tag Manager -->\\r\\n\\r\\n    <link href=\"https://assets-cdn.interactcp.com/interactrv/css/common/ds-global.css,qversion=1.72.802.35554.pagespeed.ce.tq-R4pvSvK.css\" type=\"text/css\" rel=\"stylesheet\"/>\\r\\n    \\r\\n<!--[if (!IE) | (gte I'"
      ]
     },
     "execution_count": 5,
     "metadata": {},
     "output_type": "execute_result"
    }
   ],
   "source": [
    "# First 1000 characters\n",
    "response.content[:1000]"
   ]
  },
  {
   "cell_type": "markdown",
   "id": "b69885a0",
   "metadata": {},
   "source": [
    "## Find links to the page for locations in each US State"
   ]
  },
  {
   "cell_type": "code",
   "execution_count": 7,
   "id": "93a4f00e",
   "metadata": {
    "scrolled": true
   },
   "outputs": [
    {
     "data": {
      "text/plain": [
       "['alabama',\n",
       " 'arizona',\n",
       " 'arkansas',\n",
       " 'california',\n",
       " 'colorado',\n",
       " 'connecticut',\n",
       " 'florida',\n",
       " 'georgia',\n",
       " 'idaho',\n",
       " 'indiana',\n",
       " 'iowa',\n",
       " 'kansas',\n",
       " 'kentucky',\n",
       " 'michigan',\n",
       " 'missouri',\n",
       " 'montana',\n",
       " 'nevada',\n",
       " 'new-hampshire',\n",
       " 'new-mexico',\n",
       " 'new-york',\n",
       " 'north-carolina',\n",
       " 'ohio',\n",
       " 'oklahoma',\n",
       " 'oregon',\n",
       " 'pennsylvania',\n",
       " 'south-carolina',\n",
       " 'tennessee',\n",
       " 'texas',\n",
       " 'utah',\n",
       " 'vermont',\n",
       " 'virginia',\n",
       " 'washington',\n",
       " 'wyoming']"
      ]
     },
     "execution_count": 7,
     "metadata": {},
     "output_type": "execute_result"
    }
   ],
   "source": [
    "contents = BeautifulSoup(response.content, 'html.parser')\n",
    "states = []\n",
    "for item in contents.findAll('a', attrs={\"class\": \"location-img\"}):\n",
    "    states.append(str(item).split(\"/locations/\")[1].split(\"\\\"\")[0])\n",
    "\n",
    "states"
   ]
  },
  {
   "cell_type": "markdown",
   "id": "862976d3",
   "metadata": {},
   "source": [
    "## For each state, get the HTML from that website and extract the Google Maps URL"
   ]
  },
  {
   "cell_type": "code",
   "execution_count": 8,
   "id": "9b9051bd",
   "metadata": {},
   "outputs": [
    {
     "name": "stdout",
     "output_type": "stream",
     "text": [
      "Failed to get result for alabama\n"
     ]
    }
   ],
   "source": [
    "found = []\n",
    "\n",
    "for state in states:\n",
    "\n",
    "    response = requests.get(url + state)\n",
    "    if response.status_code != 200:\n",
    "        print(f\"Failed to get result for {state}\")\n",
    "        continue\n",
    "        \n",
    "    contents = BeautifulSoup(response.content, 'html.parser')\n",
    "    \n",
    "    filter1 = contents.findAll('div', attrs={\"class\": \"panel panel-location panel-default pull-left\"})\n",
    "    \n",
    "    for item in filter1:\n",
    "        location = item.find('span', class_='title')\n",
    "        if location is None:\n",
    "            continue\n",
    "        if \"<li>Service\" in str(item):\n",
    "            address = str(item).split(\"<li>\")[3].split(\"<a href=\")[1].split(\" \")[0]\n",
    "        else:\n",
    "            address = str(item).split(\"<li>\")[2].split(\"<a href=\")[1].split(\" \")[0]\n",
    "        found.append({\"location\": location.get_text(), \"state\": state.title(), \"google_maps_url\": address[1:-1]})\n"
   ]
  },
  {
   "cell_type": "code",
   "execution_count": 10,
   "id": "5b53dc49",
   "metadata": {},
   "outputs": [
    {
     "data": {
      "text/html": [
       "<div>\n",
       "<style scoped>\n",
       "    .dataframe tbody tr th:only-of-type {\n",
       "        vertical-align: middle;\n",
       "    }\n",
       "\n",
       "    .dataframe tbody tr th {\n",
       "        vertical-align: top;\n",
       "    }\n",
       "\n",
       "    .dataframe thead th {\n",
       "        text-align: right;\n",
       "    }\n",
       "</style>\n",
       "<table border=\"1\" class=\"dataframe\">\n",
       "  <thead>\n",
       "    <tr style=\"text-align: right;\">\n",
       "      <th></th>\n",
       "      <th>location</th>\n",
       "      <th>state</th>\n",
       "      <th>google_maps_url</th>\n",
       "    </tr>\n",
       "  </thead>\n",
       "  <tbody>\n",
       "    <tr>\n",
       "      <th>0</th>\n",
       "      <td>Avondale</td>\n",
       "      <td>Arizona</td>\n",
       "      <td>https://goo.gl/maps/H5Qwvj58iy2B8ZcM7</td>\n",
       "    </tr>\n",
       "    <tr>\n",
       "      <th>1</th>\n",
       "      <td>Mesa</td>\n",
       "      <td>Arizona</td>\n",
       "      <td>https://g.page/toms-camperland-mesa?share</td>\n",
       "    </tr>\n",
       "    <tr>\n",
       "      <th>2</th>\n",
       "      <td>Prescott</td>\n",
       "      <td>Arizona</td>\n",
       "      <td>https://goo.gl/maps/EtY16zM2dJD2a4j27</td>\n",
       "    </tr>\n",
       "    <tr>\n",
       "      <th>3</th>\n",
       "      <td>Prescott Valley</td>\n",
       "      <td>Arizona</td>\n",
       "      <td>https://goo.gl/maps/TT46mfHyazV1ThyMA</td>\n",
       "    </tr>\n",
       "    <tr>\n",
       "      <th>4</th>\n",
       "      <td>Surprise, AZ</td>\n",
       "      <td>Arizona</td>\n",
       "      <td>https://goo.gl/maps/jFhE6z23KtrkWeQC7</td>\n",
       "    </tr>\n",
       "    <tr>\n",
       "      <th>...</th>\n",
       "      <td>...</td>\n",
       "      <td>...</td>\n",
       "      <td>...</td>\n",
       "    </tr>\n",
       "    <tr>\n",
       "      <th>105</th>\n",
       "      <td>Liberty Lake</td>\n",
       "      <td>Washington</td>\n",
       "      <td>https://goo.gl/maps/sHgNfZyzH2pHndiS6</td>\n",
       "    </tr>\n",
       "    <tr>\n",
       "      <th>106</th>\n",
       "      <td>East Pasco</td>\n",
       "      <td>Washington</td>\n",
       "      <td>https://goo.gl/maps/fBstXKV3nnwDmrhx9</td>\n",
       "    </tr>\n",
       "    <tr>\n",
       "      <th>107</th>\n",
       "      <td>West Pasco</td>\n",
       "      <td>Washington</td>\n",
       "      <td>https://goo.gl/maps/21iTznMLpN5dVZrq7</td>\n",
       "    </tr>\n",
       "    <tr>\n",
       "      <th>108</th>\n",
       "      <td>Spokane</td>\n",
       "      <td>Washington</td>\n",
       "      <td>https://goo.gl/maps/52De2Wkhb9xixY6k6</td>\n",
       "    </tr>\n",
       "    <tr>\n",
       "      <th>109</th>\n",
       "      <td>Cheyenne</td>\n",
       "      <td>Wyoming</td>\n",
       "      <td>https://goo.gl/maps/WHDbFGxwCdVkj39W7</td>\n",
       "    </tr>\n",
       "  </tbody>\n",
       "</table>\n",
       "<p>110 rows × 3 columns</p>\n",
       "</div>"
      ],
      "text/plain": [
       "            location       state                            google_maps_url\n",
       "0           Avondale     Arizona      https://goo.gl/maps/H5Qwvj58iy2B8ZcM7\n",
       "1               Mesa     Arizona  https://g.page/toms-camperland-mesa?share\n",
       "2           Prescott     Arizona      https://goo.gl/maps/EtY16zM2dJD2a4j27\n",
       "3    Prescott Valley     Arizona      https://goo.gl/maps/TT46mfHyazV1ThyMA\n",
       "4       Surprise, AZ     Arizona      https://goo.gl/maps/jFhE6z23KtrkWeQC7\n",
       "..               ...         ...                                        ...\n",
       "105     Liberty Lake  Washington      https://goo.gl/maps/sHgNfZyzH2pHndiS6\n",
       "106       East Pasco  Washington      https://goo.gl/maps/fBstXKV3nnwDmrhx9\n",
       "107       West Pasco  Washington      https://goo.gl/maps/21iTznMLpN5dVZrq7\n",
       "108          Spokane  Washington      https://goo.gl/maps/52De2Wkhb9xixY6k6\n",
       "109         Cheyenne     Wyoming      https://goo.gl/maps/WHDbFGxwCdVkj39W7\n",
       "\n",
       "[110 rows x 3 columns]"
      ]
     },
     "execution_count": 10,
     "metadata": {},
     "output_type": "execute_result"
    }
   ],
   "source": [
    "pd.DataFrame(found)"
   ]
  },
  {
   "cell_type": "markdown",
   "id": "c3bd39fe",
   "metadata": {},
   "source": [
    "## Load the Google Maps link, and get the longitude and latitude"
   ]
  },
  {
   "cell_type": "code",
   "execution_count": 15,
   "id": "f0b6a63e",
   "metadata": {},
   "outputs": [
    {
     "name": "stdout",
     "output_type": "stream",
     "text": [
      "Arizona\n",
      "Arizona\n",
      "Arizona\n",
      "Arizona\n",
      "Arizona\n",
      "Arizona\n",
      "Arkansas\n",
      "California\n",
      "California\n",
      "California\n",
      "California\n",
      "California\n",
      "California\n",
      "California\n",
      "California\n",
      "Colorado\n",
      "Colorado\n",
      "Colorado\n",
      "Colorado\n",
      "Connecticut\n",
      "Florida\n",
      "Florida\n",
      "Florida\n",
      "Florida\n",
      "Florida\n",
      "Florida\n",
      "Florida\n",
      "Florida\n",
      "Florida\n",
      "Georgia\n",
      "Georgia\n",
      "Georgia\n",
      "Georgia\n",
      "Idaho\n",
      "Idaho\n",
      "Indiana\n",
      "Indiana\n",
      "Iowa\n",
      "Kansas\n",
      "Kansas\n",
      "Kentucky\n",
      "Kentucky\n",
      "Kentucky\n",
      "Michigan\n",
      "Michigan\n",
      "Missouri\n",
      "Missouri\n",
      "Missouri\n",
      "Montana\n",
      "Nevada\n",
      "Nevada\n",
      "New-Hampshire\n",
      "New-Mexico\n",
      "New-Mexico\n",
      "New-York\n",
      "New-York\n",
      "North-Carolina\n",
      "North-Carolina\n",
      "North-Carolina\n",
      "North-Carolina\n",
      "North-Carolina\n",
      "North-Carolina\n",
      "North-Carolina\n",
      "North-Carolina\n",
      "Ohio\n",
      "Ohio\n",
      "Ohio\n",
      "Oklahoma\n",
      "Oklahoma\n",
      "Oregon\n",
      "Oregon\n",
      "Oregon\n",
      "Pennsylvania\n",
      "South-Carolina\n",
      "South-Carolina\n",
      "South-Carolina\n",
      "South-Carolina\n",
      "South-Carolina\n",
      "South-Carolina\n",
      "Tennessee\n",
      "Tennessee\n",
      "Tennessee\n",
      "Tennessee\n",
      "Tennessee\n",
      "Texas\n",
      "Texas\n",
      "Texas\n",
      "Texas\n",
      "Texas\n",
      "Texas\n",
      "Texas\n",
      "Texas\n",
      "Texas\n",
      "Texas\n",
      "Texas\n",
      "Texas\n",
      "Texas\n",
      "Texas\n",
      "Texas\n",
      "Texas\n",
      "Texas\n",
      "Texas\n",
      "Utah\n",
      "Vermont\n",
      "Virginia\n",
      "Washington\n",
      "Washington\n",
      "Washington\n",
      "Washington\n",
      "Wyoming\n",
      "Completed\n"
     ]
    }
   ],
   "source": [
    "driver = webdriver.Chrome()\n",
    "\n",
    "for idx, state_info in enumerate(found):\n",
    "    \n",
    "    print(state_info['state'])\n",
    "    \n",
    "    state_url = state_info['google_maps_url']\n",
    "    driver.get(state_url)\n",
    "    \n",
    "    # Apply waiting period, as Google Maps does not always immediately update to show the latitude / longitude in the URL\n",
    "    time.sleep(5)\n",
    "\n",
    "    found_url = (driver.current_url)\n",
    "    found[idx]['url'] = str(found_url)\n",
    "    \n",
    "    # Split the URL to find the longitude and latitude\n",
    "    temp = found_url[found_url.find('@')+1:].split(',')\n",
    "    found[idx]['lat'] = temp[0]\n",
    "    found[idx]['lon'] = temp[1]\n",
    "    \n",
    "print(\"Completed\")\n",
    "driver.close()    "
   ]
  },
  {
   "cell_type": "code",
   "execution_count": 17,
   "id": "19084420",
   "metadata": {},
   "outputs": [],
   "source": [
    "results = pd.DataFrame(found)"
   ]
  },
  {
   "cell_type": "code",
   "execution_count": 18,
   "id": "25e9fddd",
   "metadata": {},
   "outputs": [],
   "source": [
    "results.to_csv(\"sample_outputs/RV_found.csv\")"
   ]
  },
  {
   "cell_type": "markdown",
   "id": "eaa6a713",
   "metadata": {},
   "source": [
    "# Example: Using Requests to perform searches, and use beautifulsoup to parse information from search results (which are in HTML form)\n",
    "\n",
    "Process:\n",
    "1. From http://www.rvda.org/rvda/Find_A_Dealer/Find_A_Dealer1.aspx, search each US and Canadian state and get search results\n",
    "3. From the search results, get the address"
   ]
  },
  {
   "cell_type": "markdown",
   "id": "999294d7",
   "metadata": {},
   "source": [
    "## Load relevant libraries"
   ]
  },
  {
   "cell_type": "code",
   "execution_count": 62,
   "id": "6e395fa4",
   "metadata": {},
   "outputs": [],
   "source": [
    "import requests\n",
    "import pip_system_certs\n",
    "from bs4 import BeautifulSoup\n",
    "import pandas as pd"
   ]
  },
  {
   "cell_type": "markdown",
   "id": "07f66fc2",
   "metadata": {},
   "source": [
    "## Use requests library to search each State\n",
    "\n",
    "The headers (including cookie) and payload are found through looking at Developer Tools -> Network (for more information, see the Requests library notebook)\n",
    "\n",
    "Cookie and payload may need to be modified at the time you run it"
   ]
  },
  {
   "cell_type": "code",
   "execution_count": 80,
   "id": "b2afd71d",
   "metadata": {},
   "outputs": [],
   "source": [
    "# List of states \n",
    "states = [\"AL\", \"AK\", \"AB\", \"AZ\", \"AR\", \"BC\", \"CA\", \"CZ\", \"CO\", \"CT\", \"DE\", \"DC\", \"FL\", \"GA\", \"GU\", \"HI\", \"ID\", \"IL\", \"IN\", \"IA\", \"KS\", \"KY\", \"LB\", \"LA\", \"ME\", \"MB\", \"MD\", \"MA\", \"MI\", \"MN\", \"MS\", \"MO\", \"MT\", \"NE\", \"NV\", \"NB\", \"NH\", \"NJ\", \"NM\", \"NY\", \"NL\", \"NC\", \"ND\", \"NT\", \"NS\", \"NU\", \"OH\", \"OK\", \"ON\", \"OR\", \"PA\", \"PE\", \"PR\", \"QC\", \"RI\", \"SK\", \"SC\", \"SD\", \"TN\", \"TX\", \"UT\", \"VT\", \"VI\", \"VA\", \"WA\", \"WV\", \"WI\", \"WY\", \"YT\"]"
   ]
  },
  {
   "cell_type": "code",
   "execution_count": 96,
   "id": "2b0b2ab8",
   "metadata": {},
   "outputs": [],
   "source": [
    "url = \"http://www.rvda.org/rvda/Find_A_Dealer/Find_A_Dealer1.aspx\"\n",
    "\n",
    "# The cookie may need to be refreshed\n",
    "cookie = \"AnonymousCartId=00000000-0000-0000-0000-000000000000; _ga=GA1.2.961405232.1693955141; s_fid=7992C858895D4149-2E0CA5F02C0227D5; _gcl_au=1.1.861910985.1693955147; stg_returning_visitor=Tue%2C%2005%20Sep%202023%2023:49:17%20GMT; ASP.NET_SessionId=roip0nkdpm1grdtnoip4rkqg; __RequestVerificationToken=fH_jiUnrAMs6fUbueZAgXNOEDoz0PIVxNF7_XZ40HbosreHvf8LHgijjByNK9p4WgYeBxL3GOO7dr3L6cOtuJaBMKABXclJ4qkisbWQCWvQ1; _gid=GA1.2.780420197.1694386848; Asi.Web.Browser.CookiesEnabled=true; s_cc=true; stg_traffic_source_priority=2; stg_externalReferrer=http://localhost:8888/; cookieconsent_status=dismiss; _gat=1; _pk_id.02113936-5bac-428a-851b-68e7772bab59.d7f5=aeef7e160ea3a9f4.1693955149.4.1694388897.1694388897.; _pk_ses.02113936-5bac-428a-851b-68e7772bab59.d7f5=*; s_sq=mviewwebrvda%3D%2526pid%253Dhttp%25253A%25252F%25252Fwww.rvda.org%25252Frvda%25252FFind_A_Dealer%25252FFind_A_Dealer1.aspx%2526oid%253Dfunctiononclick%252528event%252529%25257Bjavascript%25253AWebForm_DoPostBackWithOptions%252528newWebForm_PostBackOptions%252528%252522ctl01%252524Te%2526oidt%253D2%2526ot%253DSUBMIT; stg_last_interaction=Sun%2C%2010%20Sep%202023%2023:35:01%20GMT\""
   ]
  },
  {
   "cell_type": "code",
   "execution_count": 97,
   "id": "2fcd8ab8",
   "metadata": {
    "code_folding": []
   },
   "outputs": [],
   "source": [
    "headers = {\n",
    "    \"Accept\": \"text/html,application/xhtml+xml,application/xml;q=0.9,image/webp,image/apng,*/*;q=0.8,application/signed-exchange;v=b3;q=0.7\"\n",
    "    ,\"Accept-Encoding\": \"gzip, deflate\"\n",
    "    ,\"Accept-Language\": \"en-US,en;q=0.9\"\n",
    "    ,\"Cache-Control\": \"max-age=0\"\n",
    "    ,\"Connection\": \"keep-alive\"\n",
    "    ,\"Content-Length\": \"7168\"\n",
    "    ,\"Content-Type\": \"application/x-www-form-urlencoded\"\n",
    "    ,\"Cookie\": cookie\n",
    "    ,\"Host\": \"www.rvda.org\"\n",
    "    ,\"Origin\": \"http://www.rvda.org\"\n",
    "    ,\"Referer\": \"http://www.rvda.org/rvda/Find_A_Dealer/Find_A_Dealer1.aspx\"\n",
    "    ,\"Upgrade-Insecure-Requests\": \"1\"\n",
    "    ,\"User-Agent\": \"Mozilla/5.0 (Windows NT 10.0; Win64; x64) AppleWebKit/537.36 (KHTML, like Gecko) Chrome/116.0.0.0 Safari/537.36 Edg/116.0.1938.69\"\n",
    "}"
   ]
  },
  {
   "cell_type": "code",
   "execution_count": 100,
   "id": "47948ab1",
   "metadata": {
    "scrolled": true
   },
   "outputs": [
    {
     "name": "stdout",
     "output_type": "stream",
     "text": [
      "AL\n",
      "AK\n",
      "AB\n",
      "AZ\n",
      "AR\n",
      "BC\n",
      "CA\n",
      "CZ\n",
      "CO\n",
      "CT\n",
      "DE\n",
      "DC\n",
      "FL\n",
      "GA\n",
      "GU\n",
      "HI\n",
      "ID\n",
      "IL\n",
      "IN\n",
      "IA\n",
      "KS\n",
      "KY\n",
      "LB\n",
      "LA\n",
      "ME\n",
      "MB\n",
      "MD\n",
      "MA\n",
      "MI\n",
      "MN\n",
      "MS\n",
      "MO\n",
      "MT\n",
      "NE\n",
      "NV\n",
      "NB\n",
      "NH\n",
      "NJ\n",
      "NM\n",
      "NY\n",
      "NL\n",
      "NC\n",
      "ND\n",
      "NT\n",
      "NS\n",
      "NU\n",
      "OH\n",
      "OK\n",
      "ON\n",
      "OR\n",
      "PA\n",
      "PE\n",
      "PR\n",
      "QC\n",
      "RI\n",
      "SK\n",
      "SC\n",
      "SD\n",
      "TN\n",
      "TX\n",
      "UT\n",
      "VT\n",
      "VI\n",
      "VA\n",
      "WA\n",
      "WV\n",
      "WI\n",
      "WY\n",
      "YT\n"
     ]
    }
   ],
   "source": [
    "found = []\n",
    "for state in states:\n",
    "    \n",
    "    print(state)\n",
    "    \n",
    "    payload = {\n",
    "        \"__WPPS\": \"s\",\n",
    "        \"__ClientContext\": {\n",
    "            \"baseUrl\":\"/\",\n",
    "            \"isAnonymous\":\"true\",\n",
    "            \"loggedInPartyId\":\"98198\",\n",
    "            \"selectedPartyId\":\"98198\",\n",
    "            \"websiteRoot\":\"http://www.rvda.org/\",\n",
    "            \"virtualDir\":\"\"\n",
    "        },\n",
    "        \"__CTRLKEY\": \"\",\n",
    "        \"__SHIFTKEY\": \"\",\n",
    "        \"ctl01_ScriptManager1_TSM\": \";;AjaxControlToolkit, Version=4.1.50508, Culture=neutral, PublicKeyToken=28f01b0e84b6d53e:en-US:0c8c847b-b611-49a7-8e75-2196aa6e72fa:ea597d4b:b25378d2;Telerik.Web.UI, Version=2020.1.219.45, Culture=neutral, PublicKeyToken=121fae78165ba3d4:en-US:bb184598-9004-47ca-9e82-5def416be84b:16e4e7cd:33715776:f7645509:24ee1bba:e330518b:2003d0b8:c128760b:1e771326:88144a7a:c8618e41:1a73651d:333f8d94:874f8ea2:fd9da3ae:4877f69a:b2e06756:92fe8ea0:fa31b949:19620875:f46195d3:490a9d4e:aa288e2d:b092aa46:e524c98b:ed16cbdc:bd8f85e4\",\n",
    "        \"PageInstanceKey\": \"3050613b-4fe5-4c6d-af0c-e5da547189fc\",\n",
    "        \"__RequestVerificationToken\": \"kaUklN4VvDJJkyOYtoh0sF-Qd8PxNxjSPuSOGaJ6W3-77gWKna63-m7RL_JpM1eJ72M_zhsfa6XB6KtYdwJTI32Ltmj70Buupa2DAf_S70s1\",\n",
    "        \"TemplateUserMessagesID\": \"ctl01_TemplateUserMessages_ctl00_Messages\",\n",
    "        \"PageIsDirty\": \"false\",\n",
    "        \"IsControlPostBackctl01$ciHeaderLogo\": \"1\",\n",
    "        \"IsControlPostBackctl01$ciHeaderLogo$ContentRecordTemplateArea$HeaderLogo\": \"1\",\n",
    "        \"IsControlPostBackctl01$ciHeaderLogo$ContentRecordTemplateArea$NewContentHtml\": \"1\",\n",
    "        \"IsControlPostBackctl01$ciUtilityNavigation\": \"1\",\n",
    "        \"__EVENTTARGET\": \"\",\n",
    "        \"__EVENTARGUMENT\": \"\",\n",
    "        \"ctl01$ciUtilityNavigation$ctl12$SearchTerms\": \"Keyword search\",\n",
    "        \"ctl01$ciUtilityNavigation$ctl18$SearchTerms\": \"Keyword search\",\n",
    "        \"ctl01_ciPrimaryNavigation_NavControl_NavMenu_ClientState\": \"\",\n",
    "        \"ctl01$TemplateBody$WebPartManager1$gwpciNewSocialShareCommon$ciNewSocialShareCommon$RadSocialShare1_compactPopup$C$comboBox\": \"\",\n",
    "        \"ctl01_TemplateBody_WebPartManager1_gwpciNewSocialShareCommon_ciNewSocialShareCommon_RadSocialShare1_compactPopup_C_comboBox_ClientState\": \"\",\n",
    "        \"ctl01_TemplateBody_WebPartManager1_gwpciNewSocialShareCommon_ciNewSocialShareCommon_RadSocialShare1_compactPopup_ClientState\": \"\",\n",
    "        \"ctl01_TemplateBody_WebPartManager1_gwpciNewSocialShareCommon_ciNewSocialShareCommon_RadSocialShare1_ClientState\": \"\",\n",
    "        \"ctl01$TemplateBody$WebPartManager1$gwpste_container_SearchForm$ciSearchForm$CompanyStateDDL\": state,\n",
    "        \"ctl01$TemplateBody$WebPartManager1$gwpste_container_SearchForm$ciSearchForm$Zip2\": \"\",\n",
    "        \"ctl01$TemplateBody$WebPartManager1$gwpste_container_SearchForm$ciSearchForm$ZipDist\": \"0\",\n",
    "        \"ctl01$TemplateBody$WebPartManager1$gwpste_container_SearchForm$ciSearchForm$Company\": \"\",\n",
    "        \"ctl01$TemplateBody$WebPartManager1$gwpste_container_SearchForm$ciSearchForm$SearchSubmit\": \"Start Search\",\n",
    "    }\n",
    "    try:\n",
    "        result = requests.post(url, headers=headers, data=payload)\n",
    "    except Exception as e:\n",
    "        print(f\"Hit an error: {e}\")\n",
    "    \n",
    "    if result.status_code != 200:\n",
    "        print(f\"Returned status code {result.status_code}\")\n",
    "        print(result.content)\n",
    "    else:\n",
    "        found.append({\"state\": state, 'html': result.content})"
   ]
  },
  {
   "cell_type": "markdown",
   "id": "94a91c3c",
   "metadata": {},
   "source": [
    "## Extract name and address from the HTML "
   ]
  },
  {
   "cell_type": "code",
   "execution_count": 116,
   "id": "2ade291d",
   "metadata": {
    "scrolled": true
   },
   "outputs": [
    {
     "name": "stdout",
     "output_type": "stream",
     "text": [
      "AL\n",
      "AK\n",
      "AB\n",
      "AZ\n",
      "AR\n",
      "BC\n",
      "CA\n",
      "CZ\n",
      "CO\n",
      "CT\n",
      "DE\n",
      "DC\n",
      "FL\n",
      "GA\n",
      "GU\n",
      "HI\n",
      "ID\n",
      "IL\n",
      "IN\n",
      "IA\n",
      "KS\n",
      "KY\n",
      "LB\n",
      "LA\n",
      "ME\n",
      "MB\n",
      "MD\n",
      "MA\n",
      "MI\n",
      "MN\n",
      "MS\n",
      "MO\n",
      "MT\n",
      "NE\n",
      "NV\n",
      "NB\n",
      "NH\n",
      "NJ\n",
      "NM\n",
      "NY\n",
      "NL\n",
      "NC\n",
      "ND\n",
      "NT\n",
      "NS\n",
      "NU\n",
      "OH\n",
      "OK\n",
      "ON\n",
      "OR\n",
      "PA\n",
      "PE\n",
      "PR\n",
      "QC\n",
      "RI\n",
      "SK\n",
      "SC\n",
      "SD\n",
      "TN\n",
      "TX\n",
      "UT\n",
      "VT\n",
      "VI\n",
      "VA\n",
      "WA\n",
      "WV\n",
      "WI\n",
      "WY\n",
      "YT\n"
     ]
    }
   ],
   "source": [
    "every_dealer = []\n",
    "for item in found:\n",
    "    print(item['state'])\n",
    "    \n",
    "    html_contents = item['html']\n",
    "    contents = BeautifulSoup(html_contents)\n",
    "    \n",
    "    filter1 = contents.findAll(attrs={\"class\": \"ml15\"})\n",
    "    for dealerinfo in filter1:\n",
    "        dealer = dealerinfo.find('span', style='font-weight:bold;')\n",
    "        if dealer is None:\n",
    "            continue\n",
    "\n",
    "        found_string = str(dealerinfo)\n",
    "\n",
    "        address = None\n",
    "        if \"<br/>Phone\" in found_string:\n",
    "            address = \" \".join(str(dealerinfo).split(\"<br/>Phone\")[0].split(\"<br/>\")[1:])\n",
    "        elif \"<br/>Website\" in found_string:\n",
    "            address = \" \".join(str(dealerinfo).split(\"<br/>Website\")[0].split(\"<br/>\")[1:])\n",
    "        else:\n",
    "            address = \" \".join(str(dealerinfo).split(\"</td>\")[0].split(\"<br/>\")[1:])\n",
    "        \n",
    "        every_dealer.append({\"dealer\": dealer.get_text(), \"address\": address.lstrip(), 'state': item['state']})"
   ]
  },
  {
   "cell_type": "code",
   "execution_count": 117,
   "id": "a52548b4",
   "metadata": {},
   "outputs": [
    {
     "data": {
      "text/html": [
       "<div>\n",
       "<style scoped>\n",
       "    .dataframe tbody tr th:only-of-type {\n",
       "        vertical-align: middle;\n",
       "    }\n",
       "\n",
       "    .dataframe tbody tr th {\n",
       "        vertical-align: top;\n",
       "    }\n",
       "\n",
       "    .dataframe thead th {\n",
       "        text-align: right;\n",
       "    }\n",
       "</style>\n",
       "<table border=\"1\" class=\"dataframe\">\n",
       "  <thead>\n",
       "    <tr style=\"text-align: right;\">\n",
       "      <th></th>\n",
       "      <th>dealer</th>\n",
       "      <th>address</th>\n",
       "      <th>state</th>\n",
       "    </tr>\n",
       "  </thead>\n",
       "  <tbody>\n",
       "    <tr>\n",
       "      <th>0</th>\n",
       "      <td>Bama RV</td>\n",
       "      <td>5276 Montgomery Hwy Dothan, AL</td>\n",
       "      <td>AL</td>\n",
       "    </tr>\n",
       "    <tr>\n",
       "      <th>1</th>\n",
       "      <td>Bankston Motor Homes Inc</td>\n",
       "      <td>9690 US-31 Warrior, AL</td>\n",
       "      <td>AL</td>\n",
       "    </tr>\n",
       "    <tr>\n",
       "      <th>2</th>\n",
       "      <td>Bankston Motor Homes of Gadsen</td>\n",
       "      <td>450 E.R. Ballard Dr Attalla, AL</td>\n",
       "      <td>AL</td>\n",
       "    </tr>\n",
       "    <tr>\n",
       "      <th>3</th>\n",
       "      <td>Bankston Motor Homes, Inc.</td>\n",
       "      <td>2191 Jordan Lane NW Huntsville, AL</td>\n",
       "      <td>AL</td>\n",
       "    </tr>\n",
       "    <tr>\n",
       "      <th>4</th>\n",
       "      <td>Bankston Motor Homes, Inc.</td>\n",
       "      <td>3008 Florence Blvd Florence, AL</td>\n",
       "      <td>AL</td>\n",
       "    </tr>\n",
       "  </tbody>\n",
       "</table>\n",
       "</div>"
      ],
      "text/plain": [
       "                           dealer                             address state\n",
       "0                         Bama RV      5276 Montgomery Hwy Dothan, AL    AL\n",
       "1        Bankston Motor Homes Inc              9690 US-31 Warrior, AL    AL\n",
       "2  Bankston Motor Homes of Gadsen    450 E.R. Ballard Dr Attalla, AL     AL\n",
       "3      Bankston Motor Homes, Inc.  2191 Jordan Lane NW Huntsville, AL    AL\n",
       "4      Bankston Motor Homes, Inc.     3008 Florence Blvd Florence, AL    AL"
      ]
     },
     "execution_count": 117,
     "metadata": {},
     "output_type": "execute_result"
    }
   ],
   "source": [
    "saved_dealers = pd.DataFrame(every_dealer)\n",
    "saved_dealers.head()"
   ]
  },
  {
   "cell_type": "code",
   "execution_count": 118,
   "id": "7e980eec",
   "metadata": {},
   "outputs": [],
   "source": [
    "saved_dealers.to_csv(\"sample_outputs/RV_found_addresses.csv\")"
   ]
  },
  {
   "cell_type": "code",
   "execution_count": null,
   "id": "737ffa0d",
   "metadata": {},
   "outputs": [],
   "source": []
  }
 ],
 "metadata": {
  "kernelspec": {
   "display_name": "Python 3 (ipykernel)",
   "language": "python",
   "name": "python3"
  },
  "language_info": {
   "codemirror_mode": {
    "name": "ipython",
    "version": 3
   },
   "file_extension": ".py",
   "mimetype": "text/x-python",
   "name": "python",
   "nbconvert_exporter": "python",
   "pygments_lexer": "ipython3",
   "version": "3.9.5"
  },
  "toc": {
   "base_numbering": 1,
   "nav_menu": {},
   "number_sections": true,
   "sideBar": true,
   "skip_h1_title": false,
   "title_cell": "Table of Contents",
   "title_sidebar": "Contents",
   "toc_cell": false,
   "toc_position": {
    "height": "calc(100% - 180px)",
    "left": "10px",
    "top": "150px",
    "width": "415.525px"
   },
   "toc_section_display": true,
   "toc_window_display": true
  }
 },
 "nbformat": 4,
 "nbformat_minor": 5
}
